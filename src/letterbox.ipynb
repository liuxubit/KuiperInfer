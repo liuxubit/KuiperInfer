{
 "cells": [
  {
   "cell_type": "code",
   "execution_count": 4,
   "id": "97a73422",
   "metadata": {},
   "outputs": [],
   "source": [
    "import numpy as np\n",
    "import cv2"
   ]
  },
  {
   "cell_type": "code",
   "execution_count": 50,
   "id": "4dbd3de1",
   "metadata": {},
   "outputs": [],
   "source": [
    "def letterbox(im, new_shape=(640, 640), color=(114, 1145, 114), auto=True, \n",
    "              scaleFill=False, scaleup=True, stride=32, \n",
    "                mean = [0.485, 0.456, 0.406], std = [0.229, 0.224, 0.225]):\n",
    "    # Resize and pad image while meeting stride-multiple constraints\n",
    "    shape = im.shape[:2]  # current shape [height, width]\n",
    "    if isinstance(new_shape, int):\n",
    "        new_shape = (new_shape, new_shape)\n",
    "        \n",
    "#     for i in range(im.shape[0]):\n",
    "#         for j in range(im.shape[1]):\n",
    "#             img[i, j, 0] = (img[i, j, 0] / 255.0 - mean[2]) / std[2];\n",
    "#             img[i, j, 1] = (img[i, j, 1] / 255.0 - mean[1]) / std[1];\n",
    "#             img[i, j, 2] = (img[i, j, 2] / 255.0 - mean[0]) / std[0];\n",
    " \n",
    "    # Scale ratio (new / old)\n",
    "    r = min(new_shape[0] / shape[0], new_shape[1] / shape[1])\n",
    "    if not scaleup:  # only scale down, do not scale up (for better val mAP)\n",
    "        r = min(r, 1.0)\n",
    " \n",
    "    # Compute padding\n",
    "    ratio = r, r  # width, height ratios\n",
    "    new_unpad = int(round(shape[1] * r)), int(round(shape[0] * r))\n",
    "    dw, dh = new_shape[1] - new_unpad[0], new_shape[0] - new_unpad[1]  # wh padding\n",
    "    if auto:  # minimum rectangle\n",
    "        dw, dh = np.mod(dw, stride), np.mod(dh, stride)  # wh padding\n",
    "    elif scaleFill:  # stretch\n",
    "        dw, dh = 0.0, 0.0\n",
    "        new_unpad = (new_shape[1], new_shape[0])\n",
    "        ratio = new_shape[1] / shape[1], new_shape[0] / shape[0]  # width, height ratios\n",
    " \n",
    "    dw /= 2  # divide padding into 2 sides\n",
    "    dh /= 2\n",
    " \n",
    "    if shape[::-1] != new_unpad:  # resize\n",
    "        im = cv2.resize(im, new_unpad, interpolation=cv2.INTER_LINEAR)\n",
    "    top, bottom = int(round(dh - 0.1)), int(round(dh + 0.1))\n",
    "    left, right = int(round(dw - 0.1)), int(round(dw + 0.1))\n",
    "    print(f\"im.shape = {im.shape}, top = {top}, bottom = {bottom}, left = {left}, right = {right}\")\n",
    "    im = cv2.copyMakeBorder(im, top, bottom, left, right, cv2.BORDER_CONSTANT, value=color)  # add border\n",
    "    return im, ratio, dw, dh"
   ]
  },
  {
   "cell_type": "code",
   "execution_count": 54,
   "id": "7f4ce96d",
   "metadata": {},
   "outputs": [],
   "source": [
    "def output(img, mean = [0.485, 0.456, 0.406], std = [0.229, 0.224, 0.225]):\n",
    "    print(f\"img.shape = {img.shape}\" )\n",
    "    img = img.astype(np.float32)\n",
    "    for i in range(img.shape[0]):\n",
    "        for j in range(img.shape[1]):\n",
    "            img[i, j, 0] = (img[i, j, 0] / 255.0 - mean[2]) / std[2];\n",
    "            img[i, j, 1] = (img[i, j, 1] / 255.0 - mean[1]) / std[1];\n",
    "            img[i, j, 2] = (img[i, j, 2] / 255.0 - mean[0]) / std[0];\n",
    "    img = img.transpose((2, 0, 1))[::-1]\n",
    "    return img"
   ]
  },
  {
   "cell_type": "code",
   "execution_count": 60,
   "id": "fcc0fb84",
   "metadata": {},
   "outputs": [
    {
     "name": "stdout",
     "output_type": "stream",
     "text": [
      "img.shape = (720, 1280, 3)\n",
      "im.shape = (360, 640, 3), top = 12, bottom = 12, left = 0, right = 0\n",
      "leb[0].shape = (384, 640, 3), ratio = (0.5, 0.5), dw = 0.0, dh = 12.0\n",
      "img.shape = (384, 640, 3)\n",
      "img_f.shape = (3, 384, 640)\n"
     ]
    }
   ],
   "source": [
    "img = cv2.imread(\"zidane.jpg\")\n",
    "print(f\"img.shape = {img.shape}\" )\n",
    "leb, r, dw, dh = letterbox(img)\n",
    "print(f\"leb[0].shape = {leb.shape}, ratio = {r}, dw = {dw}, dh = {dh}\" )\n",
    "img_f = output(leb)\n",
    "print(f\"img_f.shape = {img_f.shape}\")\n",
    "img_f = img_f.reshape(-1)\n",
    "np.savetxt(\"img_from_python.txt\", img_f)"
   ]
  },
  {
   "cell_type": "code",
   "execution_count": null,
   "id": "6c06c5c2",
   "metadata": {},
   "outputs": [],
   "source": []
  },
  {
   "cell_type": "code",
   "execution_count": null,
   "id": "2fc32bee",
   "metadata": {},
   "outputs": [],
   "source": []
  },
  {
   "cell_type": "code",
   "execution_count": 47,
   "id": "4ad3e977",
   "metadata": {},
   "outputs": [
    {
     "data": {
      "text/plain": [
       "numpy.uint8"
      ]
     },
     "execution_count": 47,
     "metadata": {},
     "output_type": "execute_result"
    }
   ],
   "source": [
    "type(leb[0,0,0])"
   ]
  },
  {
   "cell_type": "code",
   "execution_count": 61,
   "id": "e5f01c15",
   "metadata": {},
   "outputs": [
    {
     "data": {
      "text/plain": [
       "12"
      ]
     },
     "execution_count": 61,
     "metadata": {},
     "output_type": "execute_result"
    }
   ],
   "source": [
    "dw = 12\n",
    "stride = 32\n",
    "np.mod(dw, stride)"
   ]
  },
  {
   "cell_type": "code",
   "execution_count": 1,
   "id": "59da2f5b",
   "metadata": {},
   "outputs": [],
   "source": [
    "def pad(a, b):\n",
    "    return (a + b - 1) &(-b)"
   ]
  },
  {
   "cell_type": "code",
   "execution_count": 2,
   "id": "3e2f35fc",
   "metadata": {},
   "outputs": [
    {
     "data": {
      "text/plain": [
       "384"
      ]
     },
     "execution_count": 2,
     "metadata": {},
     "output_type": "execute_result"
    }
   ],
   "source": [
    "a = 360\n",
    "b = 32\n",
    "pad(a, b)"
   ]
  },
  {
   "cell_type": "code",
   "execution_count": null,
   "id": "fdae9f09",
   "metadata": {},
   "outputs": [],
   "source": []
  }
 ],
 "metadata": {
  "kernelspec": {
   "display_name": "Python 3 (ipykernel)",
   "language": "python",
   "name": "python3"
  },
  "language_info": {
   "codemirror_mode": {
    "name": "ipython",
    "version": 3
   },
   "file_extension": ".py",
   "mimetype": "text/x-python",
   "name": "python",
   "nbconvert_exporter": "python",
   "pygments_lexer": "ipython3",
   "version": "3.9.7"
  }
 },
 "nbformat": 4,
 "nbformat_minor": 5
}
